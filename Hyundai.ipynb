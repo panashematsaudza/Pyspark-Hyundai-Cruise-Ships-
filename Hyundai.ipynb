{
  "nbformat": 4,
  "nbformat_minor": 0,
  "metadata": {
    "name": "Hyundai",
    "notebookId": 1847825655897690,
    "colab": {
      "name": "Hyundai.ipynb",
      "provenance": [],
      "include_colab_link": true
    },
    "kernelspec": {
      "name": "python3",
      "display_name": "Python 3"
    }
  },
  "cells": [
    {
      "cell_type": "markdown",
      "metadata": {
        "id": "view-in-github",
        "colab_type": "text"
      },
      "source": [
        "<a href=\"https://colab.research.google.com/github/panashematsaudza/Pyspark-Hyundai-Cruise-Ships-/blob/master/Hyundai.ipynb\" target=\"_parent\"><img src=\"https://colab.research.google.com/assets/colab-badge.svg\" alt=\"Open In Colab\"/></a>"
      ]
    },
    {
      "cell_type": "code",
      "metadata": {
        "id": "mQxzt-80Rmm_",
        "colab_type": "code",
        "colab": {},
        "outputId": "9460892a-f3b2-406b-9e50-586d74e7ec9a"
      },
      "source": [
        "from pyspark.sql import SparkSession\n"
      ],
      "execution_count": 0,
      "outputs": [
        {
          "output_type": "display_data",
          "data": {
            "text/html": [
              "<style scoped>\n",
              "  .ansiout {\n",
              "    display: block;\n",
              "    unicode-bidi: embed;\n",
              "    white-space: pre-wrap;\n",
              "    word-wrap: break-word;\n",
              "    word-break: break-all;\n",
              "    font-family: \"Source Code Pro\", \"Menlo\", monospace;;\n",
              "    font-size: 13px;\n",
              "    color: #555;\n",
              "    margin-left: 4px;\n",
              "    line-height: 19px;\n",
              "  }\n",
              "</style>\n",
              "<div class=\"ansiout\"></div>"
            ]
          },
          "metadata": {
            "tags": []
          }
        }
      ]
    },
    {
      "cell_type": "code",
      "metadata": {
        "id": "zvk7sLlVRmnU",
        "colab_type": "code",
        "colab": {},
        "outputId": "0da32a92-1cf1-4cc3-e2fd-660d2f4d9398"
      },
      "source": [
        "spark = SparkSession.builder.appName('Hyndai Cruise').getOrCreate()"
      ],
      "execution_count": 0,
      "outputs": [
        {
          "output_type": "display_data",
          "data": {
            "text/html": [
              "<style scoped>\n",
              "  .ansiout {\n",
              "    display: block;\n",
              "    unicode-bidi: embed;\n",
              "    white-space: pre-wrap;\n",
              "    word-wrap: break-word;\n",
              "    word-break: break-all;\n",
              "    font-family: \"Source Code Pro\", \"Menlo\", monospace;;\n",
              "    font-size: 13px;\n",
              "    color: #555;\n",
              "    margin-left: 4px;\n",
              "    line-height: 19px;\n",
              "  }\n",
              "</style>\n",
              "<div class=\"ansiout\"></div>"
            ]
          },
          "metadata": {
            "tags": []
          }
        }
      ]
    },
    {
      "cell_type": "code",
      "metadata": {
        "id": "ZdMZa6a2Rmnc",
        "colab_type": "code",
        "colab": {},
        "outputId": "8e076318-ca5a-49c7-ff99-c3d0ac835958"
      },
      "source": [
        "from pyspark.ml.regression import LinearRegression"
      ],
      "execution_count": 0,
      "outputs": [
        {
          "output_type": "display_data",
          "data": {
            "text/html": [
              "<style scoped>\n",
              "  .ansiout {\n",
              "    display: block;\n",
              "    unicode-bidi: embed;\n",
              "    white-space: pre-wrap;\n",
              "    word-wrap: break-word;\n",
              "    word-break: break-all;\n",
              "    font-family: \"Source Code Pro\", \"Menlo\", monospace;;\n",
              "    font-size: 13px;\n",
              "    color: #555;\n",
              "    margin-left: 4px;\n",
              "    line-height: 19px;\n",
              "  }\n",
              "</style>\n",
              "<div class=\"ansiout\"></div>"
            ]
          },
          "metadata": {
            "tags": []
          }
        }
      ]
    },
    {
      "cell_type": "code",
      "metadata": {
        "id": "t4xapij7Rmnj",
        "colab_type": "code",
        "colab": {},
        "outputId": "af2da65e-bea5-4207-b532-3f261cb70a7c"
      },
      "source": [
        "data = spark.sql(\"SELECT * FROM cruise_ship\")"
      ],
      "execution_count": 0,
      "outputs": [
        {
          "output_type": "display_data",
          "data": {
            "text/html": [
              "<style scoped>\n",
              "  .ansiout {\n",
              "    display: block;\n",
              "    unicode-bidi: embed;\n",
              "    white-space: pre-wrap;\n",
              "    word-wrap: break-word;\n",
              "    word-break: break-all;\n",
              "    font-family: \"Source Code Pro\", \"Menlo\", monospace;;\n",
              "    font-size: 13px;\n",
              "    color: #555;\n",
              "    margin-left: 4px;\n",
              "    line-height: 19px;\n",
              "  }\n",
              "</style>\n",
              "<div class=\"ansiout\"></div>"
            ]
          },
          "metadata": {
            "tags": []
          }
        }
      ]
    },
    {
      "cell_type": "code",
      "metadata": {
        "id": "oVkekkxGRmnr",
        "colab_type": "code",
        "colab": {},
        "outputId": "56548dd3-34c3-473c-bdcf-86a3d197bc40"
      },
      "source": [
        "data.printSchema()"
      ],
      "execution_count": 0,
      "outputs": [
        {
          "output_type": "display_data",
          "data": {
            "text/html": [
              "<style scoped>\n",
              "  .ansiout {\n",
              "    display: block;\n",
              "    unicode-bidi: embed;\n",
              "    white-space: pre-wrap;\n",
              "    word-wrap: break-word;\n",
              "    word-break: break-all;\n",
              "    font-family: \"Source Code Pro\", \"Menlo\", monospace;;\n",
              "    font-size: 13px;\n",
              "    color: #555;\n",
              "    margin-left: 4px;\n",
              "    line-height: 19px;\n",
              "  }\n",
              "</style>\n",
              "<div class=\"ansiout\">root\n",
              "-- Ship_name: string (nullable = true)\n",
              "-- Cruise_line: string (nullable = true)\n",
              "-- Age: integer (nullable = true)\n",
              "-- Tonnage: double (nullable = true)\n",
              "-- passengers: double (nullable = true)\n",
              "-- length: double (nullable = true)\n",
              "-- cabins: double (nullable = true)\n",
              "-- passenger_density: double (nullable = true)\n",
              "-- crew: double (nullable = true)\n",
              "\n",
              "</div>"
            ]
          },
          "metadata": {
            "tags": []
          }
        }
      ]
    },
    {
      "cell_type": "code",
      "metadata": {
        "id": "mhwwpsJ8Rmnx",
        "colab_type": "code",
        "colab": {},
        "outputId": "c9aadb8b-8c0d-421c-e6bf-7603201912c5"
      },
      "source": [
        "data.describe().show()"
      ],
      "execution_count": 0,
      "outputs": [
        {
          "output_type": "display_data",
          "data": {
            "text/html": [
              "<style scoped>\n",
              "  .ansiout {\n",
              "    display: block;\n",
              "    unicode-bidi: embed;\n",
              "    white-space: pre-wrap;\n",
              "    word-wrap: break-word;\n",
              "    word-break: break-all;\n",
              "    font-family: \"Source Code Pro\", \"Menlo\", monospace;;\n",
              "    font-size: 13px;\n",
              "    color: #555;\n",
              "    margin-left: 4px;\n",
              "    line-height: 19px;\n",
              "  }\n",
              "</style>\n",
              "<div class=\"ansiout\">+-------+---------+-----------+------------------+------------------+-----------------+-----------------+------------------+-----------------+-----------------+\n",
              "summary|Ship_name|Cruise_line|               Age|           Tonnage|       passengers|           length|            cabins|passenger_density|             crew|\n",
              "+-------+---------+-----------+------------------+------------------+-----------------+-----------------+------------------+-----------------+-----------------+\n",
              "  count|      158|        158|               158|               158|              158|              158|               158|              158|              158|\n",
              "   mean| Infinity|       null|15.689873417721518| 71.28467088607599|18.45740506329114|8.130632911392404| 8.830000000000005|39.90094936708861|7.794177215189873|\n",
              " stddev|      NaN|       null| 7.615691058751413|37.229540025907866|9.677094775143416|1.793473548054825|4.4714172221480615| 8.63921711391542|3.503486564627034|\n",
              "    min|Adventure|    Azamara|                 4|             2.329|             0.66|             2.79|              0.33|             17.7|             0.59|\n",
              "    max|Zuiderdam|   Windstar|                48|             220.0|             54.0|            11.82|              27.0|            71.43|             21.0|\n",
              "+-------+---------+-----------+------------------+------------------+-----------------+-----------------+------------------+-----------------+-----------------+\n",
              "\n",
              "</div>"
            ]
          },
          "metadata": {
            "tags": []
          }
        }
      ]
    },
    {
      "cell_type": "code",
      "metadata": {
        "id": "SCeK0LamRmn9",
        "colab_type": "code",
        "colab": {},
        "outputId": "5b89ec8d-3e1b-4376-bd29-40eed007db2d"
      },
      "source": [
        "data.head(1)"
      ],
      "execution_count": 0,
      "outputs": [
        {
          "output_type": "display_data",
          "data": {
            "text/html": [
              "<style scoped>\n",
              "  .ansiout {\n",
              "    display: block;\n",
              "    unicode-bidi: embed;\n",
              "    white-space: pre-wrap;\n",
              "    word-wrap: break-word;\n",
              "    word-break: break-all;\n",
              "    font-family: \"Source Code Pro\", \"Menlo\", monospace;;\n",
              "    font-size: 13px;\n",
              "    color: #555;\n",
              "    margin-left: 4px;\n",
              "    line-height: 19px;\n",
              "  }\n",
              "</style>\n",
              "<div class=\"ansiout\">Out[7]: [Row(Ship_name=&#39;Journey&#39;, Cruise_line=&#39;Azamara&#39;, Age=6, Tonnage=30.276999999999997, passengers=6.94, length=5.94, cabins=3.55, passenger_density=42.64, crew=3.55)]</div>"
            ]
          },
          "metadata": {
            "tags": []
          }
        }
      ]
    },
    {
      "cell_type": "code",
      "metadata": {
        "id": "o8X6nEXDRmoG",
        "colab_type": "code",
        "colab": {},
        "outputId": "75e5a854-996c-4fe3-b411-ef41daebec4f"
      },
      "source": [
        "data.columns"
      ],
      "execution_count": 0,
      "outputs": [
        {
          "output_type": "display_data",
          "data": {
            "text/html": [
              "<style scoped>\n",
              "  .ansiout {\n",
              "    display: block;\n",
              "    unicode-bidi: embed;\n",
              "    white-space: pre-wrap;\n",
              "    word-wrap: break-word;\n",
              "    word-break: break-all;\n",
              "    font-family: \"Source Code Pro\", \"Menlo\", monospace;;\n",
              "    font-size: 13px;\n",
              "    color: #555;\n",
              "    margin-left: 4px;\n",
              "    line-height: 19px;\n",
              "  }\n",
              "</style>\n",
              "<div class=\"ansiout\">Out[9]: [&#39;Ship_name&#39;,\n",
              " &#39;Cruise_line&#39;,\n",
              " &#39;Age&#39;,\n",
              " &#39;Tonnage&#39;,\n",
              " &#39;passengers&#39;,\n",
              " &#39;length&#39;,\n",
              " &#39;cabins&#39;,\n",
              " &#39;passenger_density&#39;,\n",
              " &#39;crew&#39;]</div>"
            ]
          },
          "metadata": {
            "tags": []
          }
        }
      ]
    },
    {
      "cell_type": "code",
      "metadata": {
        "id": "f0bX5DW_RmoP",
        "colab_type": "code",
        "colab": {},
        "outputId": "b45a19c3-9edd-426e-8e3e-0867268644aa"
      },
      "source": [
        "from pyspark.ml.feature import StringIndexer\n",
        "from pyspark.ml.linalg import Vectors \n",
        "from pyspark.ml.feature import VectorAssembler"
      ],
      "execution_count": 0,
      "outputs": [
        {
          "output_type": "display_data",
          "data": {
            "text/html": [
              "<style scoped>\n",
              "  .ansiout {\n",
              "    display: block;\n",
              "    unicode-bidi: embed;\n",
              "    white-space: pre-wrap;\n",
              "    word-wrap: break-word;\n",
              "    word-break: break-all;\n",
              "    font-family: \"Source Code Pro\", \"Menlo\", monospace;;\n",
              "    font-size: 13px;\n",
              "    color: #555;\n",
              "    margin-left: 4px;\n",
              "    line-height: 19px;\n",
              "  }\n",
              "</style>\n",
              "<div class=\"ansiout\"></div>"
            ]
          },
          "metadata": {
            "tags": []
          }
        }
      ]
    },
    {
      "cell_type": "code",
      "metadata": {
        "id": "LYqIIMNTRmoW",
        "colab_type": "code",
        "colab": {},
        "outputId": "81954fb8-b323-4c39-bda6-14de30c0dcf5"
      },
      "source": [
        "indexer = StringIndexer(inputCol=\"Cruise_line\", outputCol=\"shipNameIndex\")\n",
        "indexed = indexer.fit(data).transform(data)\n",
        "indexed.show()"
      ],
      "execution_count": 0,
      "outputs": [
        {
          "output_type": "display_data",
          "data": {
            "text/html": [
              "<style scoped>\n",
              "  .ansiout {\n",
              "    display: block;\n",
              "    unicode-bidi: embed;\n",
              "    white-space: pre-wrap;\n",
              "    word-wrap: break-word;\n",
              "    word-break: break-all;\n",
              "    font-family: \"Source Code Pro\", \"Menlo\", monospace;;\n",
              "    font-size: 13px;\n",
              "    color: #555;\n",
              "    margin-left: 4px;\n",
              "    line-height: 19px;\n",
              "  }\n",
              "</style>\n",
              "<div class=\"ansiout\">+-----------+-----------+---+------------------+----------+------+------+-----------------+----+-------------+\n",
              "  Ship_name|Cruise_line|Age|           Tonnage|passengers|length|cabins|passenger_density|crew|shipNameIndex|\n",
              "+-----------+-----------+---+------------------+----------+------+------+-----------------+----+-------------+\n",
              "    Journey|    Azamara|  6|30.276999999999997|      6.94|  5.94|  3.55|            42.64|3.55|         16.0|\n",
              "      Quest|    Azamara|  6|30.276999999999997|      6.94|  5.94|  3.55|            42.64|3.55|         16.0|\n",
              "Celebration|   Carnival| 26|            47.262|     14.86|  7.22|  7.43|             31.8| 6.7|          1.0|\n",
              "   Conquest|   Carnival| 11|             110.0|     29.74|  9.53| 14.88|            36.99|19.1|          1.0|\n",
              "    Destiny|   Carnival| 17|           101.353|     26.42|  8.92| 13.21|            38.36|10.0|          1.0|\n",
              "    Ecstasy|   Carnival| 22|            70.367|     20.52|  8.55|  10.2|            34.29| 9.2|          1.0|\n",
              "    Elation|   Carnival| 15|            70.367|     20.52|  8.55|  10.2|            34.29| 9.2|          1.0|\n",
              "    Fantasy|   Carnival| 23|            70.367|     20.56|  8.55| 10.22|            34.23| 9.2|          1.0|\n",
              "Fascination|   Carnival| 19|            70.367|     20.52|  8.55|  10.2|            34.29| 9.2|          1.0|\n",
              "    Freedom|   Carnival|  6|110.23899999999999|      37.0|  9.51| 14.87|            29.79|11.5|          1.0|\n",
              "      Glory|   Carnival| 10|             110.0|     29.74|  9.51| 14.87|            36.99|11.6|          1.0|\n",
              "    Holiday|   Carnival| 28|            46.052|     14.52|  7.27|  7.26|            31.72| 6.6|          1.0|\n",
              "Imagination|   Carnival| 18|            70.367|     20.52|  8.55|  10.2|            34.29| 9.2|          1.0|\n",
              "Inspiration|   Carnival| 17|            70.367|     20.52|  8.55|  10.2|            34.29| 9.2|          1.0|\n",
              "     Legend|   Carnival| 11|              86.0|     21.24|  9.63| 10.62|            40.49| 9.3|          1.0|\n",
              "   Liberty*|   Carnival|  8|             110.0|     29.74|  9.51| 14.87|            36.99|11.6|          1.0|\n",
              "    Miracle|   Carnival|  9|              88.5|     21.24|  9.63| 10.62|            41.67|10.3|          1.0|\n",
              "   Paradise|   Carnival| 15|            70.367|     20.52|  8.55|  10.2|            34.29| 9.2|          1.0|\n",
              "      Pride|   Carnival| 12|              88.5|     21.24|  9.63| 11.62|            41.67| 9.3|          1.0|\n",
              "  Sensation|   Carnival| 20|            70.367|     20.52|  8.55|  10.2|            34.29| 9.2|          1.0|\n",
              "+-----------+-----------+---+------------------+----------+------+------+-----------------+----+-------------+\n",
              "only showing top 20 rows\n",
              "\n",
              "</div>"
            ]
          },
          "metadata": {
            "tags": []
          }
        }
      ]
    },
    {
      "cell_type": "code",
      "metadata": {
        "id": "37b-BgcXRmoc",
        "colab_type": "code",
        "colab": {},
        "outputId": "da1455c1-563f-4132-f2af-1455bad964d0"
      },
      "source": [
        "indexed.columns"
      ],
      "execution_count": 0,
      "outputs": [
        {
          "output_type": "display_data",
          "data": {
            "text/html": [
              "<style scoped>\n",
              "  .ansiout {\n",
              "    display: block;\n",
              "    unicode-bidi: embed;\n",
              "    white-space: pre-wrap;\n",
              "    word-wrap: break-word;\n",
              "    word-break: break-all;\n",
              "    font-family: \"Source Code Pro\", \"Menlo\", monospace;;\n",
              "    font-size: 13px;\n",
              "    color: #555;\n",
              "    margin-left: 4px;\n",
              "    line-height: 19px;\n",
              "  }\n",
              "</style>\n",
              "<div class=\"ansiout\">Out[17]: [&#39;Ship_name&#39;,\n",
              " &#39;Cruise_line&#39;,\n",
              " &#39;Age&#39;,\n",
              " &#39;Tonnage&#39;,\n",
              " &#39;passengers&#39;,\n",
              " &#39;length&#39;,\n",
              " &#39;cabins&#39;,\n",
              " &#39;passenger_density&#39;,\n",
              " &#39;crew&#39;,\n",
              " &#39;shipNameIndex&#39;]</div>"
            ]
          },
          "metadata": {
            "tags": []
          }
        }
      ]
    },
    {
      "cell_type": "code",
      "metadata": {
        "id": "YgXWFqTDRmoh",
        "colab_type": "code",
        "colab": {},
        "outputId": "c6bf3abe-0ed1-43df-a6f5-7bc17f755989"
      },
      "source": [
        "assembler = VectorAssembler(inputCols = [ 'Age','Tonnage', 'passengers','length', 'cabins','passenger_density','shipNameIndex'],outputCol ='features')"
      ],
      "execution_count": 0,
      "outputs": [
        {
          "output_type": "display_data",
          "data": {
            "text/html": [
              "<style scoped>\n",
              "  .ansiout {\n",
              "    display: block;\n",
              "    unicode-bidi: embed;\n",
              "    white-space: pre-wrap;\n",
              "    word-wrap: break-word;\n",
              "    word-break: break-all;\n",
              "    font-family: \"Source Code Pro\", \"Menlo\", monospace;;\n",
              "    font-size: 13px;\n",
              "    color: #555;\n",
              "    margin-left: 4px;\n",
              "    line-height: 19px;\n",
              "  }\n",
              "</style>\n",
              "<div class=\"ansiout\"></div>"
            ]
          },
          "metadata": {
            "tags": []
          }
        }
      ]
    },
    {
      "cell_type": "code",
      "metadata": {
        "id": "exV1NU8uRmoo",
        "colab_type": "code",
        "colab": {},
        "outputId": "4b182cc6-6dc8-4152-cfd5-8bbed5ebb85e"
      },
      "source": [
        "output = assembler.transform(indexed)\n"
      ],
      "execution_count": 0,
      "outputs": [
        {
          "output_type": "display_data",
          "data": {
            "text/html": [
              "<style scoped>\n",
              "  .ansiout {\n",
              "    display: block;\n",
              "    unicode-bidi: embed;\n",
              "    white-space: pre-wrap;\n",
              "    word-wrap: break-word;\n",
              "    word-break: break-all;\n",
              "    font-family: \"Source Code Pro\", \"Menlo\", monospace;;\n",
              "    font-size: 13px;\n",
              "    color: #555;\n",
              "    margin-left: 4px;\n",
              "    line-height: 19px;\n",
              "  }\n",
              "</style>\n",
              "<div class=\"ansiout\"></div>"
            ]
          },
          "metadata": {
            "tags": []
          }
        }
      ]
    },
    {
      "cell_type": "code",
      "metadata": {
        "id": "1bFXhZ30Rmou",
        "colab_type": "code",
        "colab": {},
        "outputId": "d7d6c3ce-3524-4d7e-f36e-6d7d4c29ed19"
      },
      "source": [
        "output.show()"
      ],
      "execution_count": 0,
      "outputs": [
        {
          "output_type": "display_data",
          "data": {
            "text/html": [
              "<style scoped>\n",
              "  .ansiout {\n",
              "    display: block;\n",
              "    unicode-bidi: embed;\n",
              "    white-space: pre-wrap;\n",
              "    word-wrap: break-word;\n",
              "    word-break: break-all;\n",
              "    font-family: \"Source Code Pro\", \"Menlo\", monospace;;\n",
              "    font-size: 13px;\n",
              "    color: #555;\n",
              "    margin-left: 4px;\n",
              "    line-height: 19px;\n",
              "  }\n",
              "</style>\n",
              "<div class=\"ansiout\">+-----------+-----------+---+------------------+----------+------+------+-----------------+----+-------------+--------------------+\n",
              "  Ship_name|Cruise_line|Age|           Tonnage|passengers|length|cabins|passenger_density|crew|shipNameIndex|            features|\n",
              "+-----------+-----------+---+------------------+----------+------+------+-----------------+----+-------------+--------------------+\n",
              "    Journey|    Azamara|  6|30.276999999999997|      6.94|  5.94|  3.55|            42.64|3.55|         16.0|[6.0,30.276999999...|\n",
              "      Quest|    Azamara|  6|30.276999999999997|      6.94|  5.94|  3.55|            42.64|3.55|         16.0|[6.0,30.276999999...|\n",
              "Celebration|   Carnival| 26|            47.262|     14.86|  7.22|  7.43|             31.8| 6.7|          1.0|[26.0,47.262,14.8...|\n",
              "   Conquest|   Carnival| 11|             110.0|     29.74|  9.53| 14.88|            36.99|19.1|          1.0|[11.0,110.0,29.74...|\n",
              "    Destiny|   Carnival| 17|           101.353|     26.42|  8.92| 13.21|            38.36|10.0|          1.0|[17.0,101.353,26....|\n",
              "    Ecstasy|   Carnival| 22|            70.367|     20.52|  8.55|  10.2|            34.29| 9.2|          1.0|[22.0,70.367,20.5...|\n",
              "    Elation|   Carnival| 15|            70.367|     20.52|  8.55|  10.2|            34.29| 9.2|          1.0|[15.0,70.367,20.5...|\n",
              "    Fantasy|   Carnival| 23|            70.367|     20.56|  8.55| 10.22|            34.23| 9.2|          1.0|[23.0,70.367,20.5...|\n",
              "Fascination|   Carnival| 19|            70.367|     20.52|  8.55|  10.2|            34.29| 9.2|          1.0|[19.0,70.367,20.5...|\n",
              "    Freedom|   Carnival|  6|110.23899999999999|      37.0|  9.51| 14.87|            29.79|11.5|          1.0|[6.0,110.23899999...|\n",
              "      Glory|   Carnival| 10|             110.0|     29.74|  9.51| 14.87|            36.99|11.6|          1.0|[10.0,110.0,29.74...|\n",
              "    Holiday|   Carnival| 28|            46.052|     14.52|  7.27|  7.26|            31.72| 6.6|          1.0|[28.0,46.052,14.5...|\n",
              "Imagination|   Carnival| 18|            70.367|     20.52|  8.55|  10.2|            34.29| 9.2|          1.0|[18.0,70.367,20.5...|\n",
              "Inspiration|   Carnival| 17|            70.367|     20.52|  8.55|  10.2|            34.29| 9.2|          1.0|[17.0,70.367,20.5...|\n",
              "     Legend|   Carnival| 11|              86.0|     21.24|  9.63| 10.62|            40.49| 9.3|          1.0|[11.0,86.0,21.24,...|\n",
              "   Liberty*|   Carnival|  8|             110.0|     29.74|  9.51| 14.87|            36.99|11.6|          1.0|[8.0,110.0,29.74,...|\n",
              "    Miracle|   Carnival|  9|              88.5|     21.24|  9.63| 10.62|            41.67|10.3|          1.0|[9.0,88.5,21.24,9...|\n",
              "   Paradise|   Carnival| 15|            70.367|     20.52|  8.55|  10.2|            34.29| 9.2|          1.0|[15.0,70.367,20.5...|\n",
              "      Pride|   Carnival| 12|              88.5|     21.24|  9.63| 11.62|            41.67| 9.3|          1.0|[12.0,88.5,21.24,...|\n",
              "  Sensation|   Carnival| 20|            70.367|     20.52|  8.55|  10.2|            34.29| 9.2|          1.0|[20.0,70.367,20.5...|\n",
              "+-----------+-----------+---+------------------+----------+------+------+-----------------+----+-------------+--------------------+\n",
              "only showing top 20 rows\n",
              "\n",
              "</div>"
            ]
          },
          "metadata": {
            "tags": []
          }
        }
      ]
    },
    {
      "cell_type": "code",
      "metadata": {
        "id": "hz7JX4L5Rmoy",
        "colab_type": "code",
        "colab": {},
        "outputId": "222f34cc-9097-4a61-d8e4-804f42b3313e"
      },
      "source": [
        "output.printSchema()"
      ],
      "execution_count": 0,
      "outputs": [
        {
          "output_type": "display_data",
          "data": {
            "text/html": [
              "<style scoped>\n",
              "  .ansiout {\n",
              "    display: block;\n",
              "    unicode-bidi: embed;\n",
              "    white-space: pre-wrap;\n",
              "    word-wrap: break-word;\n",
              "    word-break: break-all;\n",
              "    font-family: \"Source Code Pro\", \"Menlo\", monospace;;\n",
              "    font-size: 13px;\n",
              "    color: #555;\n",
              "    margin-left: 4px;\n",
              "    line-height: 19px;\n",
              "  }\n",
              "</style>\n",
              "<div class=\"ansiout\">root\n",
              "-- Ship_name: string (nullable = true)\n",
              "-- Cruise_line: string (nullable = true)\n",
              "-- Age: integer (nullable = true)\n",
              "-- Tonnage: double (nullable = true)\n",
              "-- passengers: double (nullable = true)\n",
              "-- length: double (nullable = true)\n",
              "-- cabins: double (nullable = true)\n",
              "-- passenger_density: double (nullable = true)\n",
              "-- crew: double (nullable = true)\n",
              "-- shipNameIndex: double (nullable = false)\n",
              "-- features: vector (nullable = true)\n",
              "\n",
              "</div>"
            ]
          },
          "metadata": {
            "tags": []
          }
        }
      ]
    },
    {
      "cell_type": "code",
      "metadata": {
        "id": "pCcgsJdvRmo6",
        "colab_type": "code",
        "colab": {},
        "outputId": "16bdf597-f0f8-4fe0-f2e8-398c686478a3"
      },
      "source": [
        "output.select('features').show()\n"
      ],
      "execution_count": 0,
      "outputs": [
        {
          "output_type": "display_data",
          "data": {
            "text/html": [
              "<style scoped>\n",
              "  .ansiout {\n",
              "    display: block;\n",
              "    unicode-bidi: embed;\n",
              "    white-space: pre-wrap;\n",
              "    word-wrap: break-word;\n",
              "    word-break: break-all;\n",
              "    font-family: \"Source Code Pro\", \"Menlo\", monospace;;\n",
              "    font-size: 13px;\n",
              "    color: #555;\n",
              "    margin-left: 4px;\n",
              "    line-height: 19px;\n",
              "  }\n",
              "</style>\n",
              "<div class=\"ansiout\">+--------------------+\n",
              "            features|\n",
              "+--------------------+\n",
              "[6.0,30.276999999...|\n",
              "[6.0,30.276999999...|\n",
              "[26.0,47.262,14.8...|\n",
              "[11.0,110.0,29.74...|\n",
              "[17.0,101.353,26....|\n",
              "[22.0,70.367,20.5...|\n",
              "[15.0,70.367,20.5...|\n",
              "[23.0,70.367,20.5...|\n",
              "[19.0,70.367,20.5...|\n",
              "[6.0,110.23899999...|\n",
              "[10.0,110.0,29.74...|\n",
              "[28.0,46.052,14.5...|\n",
              "[18.0,70.367,20.5...|\n",
              "[17.0,70.367,20.5...|\n",
              "[11.0,86.0,21.24,...|\n",
              "[8.0,110.0,29.74,...|\n",
              "[9.0,88.5,21.24,9...|\n",
              "[15.0,70.367,20.5...|\n",
              "[12.0,88.5,21.24,...|\n",
              "[20.0,70.367,20.5...|\n",
              "+--------------------+\n",
              "only showing top 20 rows\n",
              "\n",
              "</div>"
            ]
          },
          "metadata": {
            "tags": []
          }
        }
      ]
    },
    {
      "cell_type": "code",
      "metadata": {
        "id": "bt2Z__wDRmo_",
        "colab_type": "code",
        "colab": {},
        "outputId": "53cc0c15-2023-4537-f377-f868f43d8bb9"
      },
      "source": [
        "final_data = output.select('features','crew')"
      ],
      "execution_count": 0,
      "outputs": [
        {
          "output_type": "display_data",
          "data": {
            "text/html": [
              "<style scoped>\n",
              "  .ansiout {\n",
              "    display: block;\n",
              "    unicode-bidi: embed;\n",
              "    white-space: pre-wrap;\n",
              "    word-wrap: break-word;\n",
              "    word-break: break-all;\n",
              "    font-family: \"Source Code Pro\", \"Menlo\", monospace;;\n",
              "    font-size: 13px;\n",
              "    color: #555;\n",
              "    margin-left: 4px;\n",
              "    line-height: 19px;\n",
              "  }\n",
              "</style>\n",
              "<div class=\"ansiout\"></div>"
            ]
          },
          "metadata": {
            "tags": []
          }
        }
      ]
    },
    {
      "cell_type": "code",
      "metadata": {
        "id": "FA8KTlF8RmpE",
        "colab_type": "code",
        "colab": {},
        "outputId": "47fd838c-027e-4a6d-9cbd-a46750d77fd6"
      },
      "source": [
        "final_data.show()"
      ],
      "execution_count": 0,
      "outputs": [
        {
          "output_type": "display_data",
          "data": {
            "text/html": [
              "<style scoped>\n",
              "  .ansiout {\n",
              "    display: block;\n",
              "    unicode-bidi: embed;\n",
              "    white-space: pre-wrap;\n",
              "    word-wrap: break-word;\n",
              "    word-break: break-all;\n",
              "    font-family: \"Source Code Pro\", \"Menlo\", monospace;;\n",
              "    font-size: 13px;\n",
              "    color: #555;\n",
              "    margin-left: 4px;\n",
              "    line-height: 19px;\n",
              "  }\n",
              "</style>\n",
              "<div class=\"ansiout\">+--------------------+----+\n",
              "            features|crew|\n",
              "+--------------------+----+\n",
              "[6.0,30.276999999...|3.55|\n",
              "[6.0,30.276999999...|3.55|\n",
              "[26.0,47.262,14.8...| 6.7|\n",
              "[11.0,110.0,29.74...|19.1|\n",
              "[17.0,101.353,26....|10.0|\n",
              "[22.0,70.367,20.5...| 9.2|\n",
              "[15.0,70.367,20.5...| 9.2|\n",
              "[23.0,70.367,20.5...| 9.2|\n",
              "[19.0,70.367,20.5...| 9.2|\n",
              "[6.0,110.23899999...|11.5|\n",
              "[10.0,110.0,29.74...|11.6|\n",
              "[28.0,46.052,14.5...| 6.6|\n",
              "[18.0,70.367,20.5...| 9.2|\n",
              "[17.0,70.367,20.5...| 9.2|\n",
              "[11.0,86.0,21.24,...| 9.3|\n",
              "[8.0,110.0,29.74,...|11.6|\n",
              "[9.0,88.5,21.24,9...|10.3|\n",
              "[15.0,70.367,20.5...| 9.2|\n",
              "[12.0,88.5,21.24,...| 9.3|\n",
              "[20.0,70.367,20.5...| 9.2|\n",
              "+--------------------+----+\n",
              "only showing top 20 rows\n",
              "\n",
              "</div>"
            ]
          },
          "metadata": {
            "tags": []
          }
        }
      ]
    },
    {
      "cell_type": "code",
      "metadata": {
        "id": "qJBjJ_EhRmpL",
        "colab_type": "code",
        "colab": {},
        "outputId": "db2f79ce-8a75-41f7-ccaf-5af601fd812c"
      },
      "source": [
        "train_data ,test_data = final_data.randomSplit([0.7,0.3])\n"
      ],
      "execution_count": 0,
      "outputs": [
        {
          "output_type": "display_data",
          "data": {
            "text/html": [
              "<style scoped>\n",
              "  .ansiout {\n",
              "    display: block;\n",
              "    unicode-bidi: embed;\n",
              "    white-space: pre-wrap;\n",
              "    word-wrap: break-word;\n",
              "    word-break: break-all;\n",
              "    font-family: \"Source Code Pro\", \"Menlo\", monospace;;\n",
              "    font-size: 13px;\n",
              "    color: #555;\n",
              "    margin-left: 4px;\n",
              "    line-height: 19px;\n",
              "  }\n",
              "</style>\n",
              "<div class=\"ansiout\"></div>"
            ]
          },
          "metadata": {
            "tags": []
          }
        }
      ]
    },
    {
      "cell_type": "code",
      "metadata": {
        "id": "WoqmUUopRmpQ",
        "colab_type": "code",
        "colab": {},
        "outputId": "639882b1-8581-4c93-b11f-9b2731028b6a"
      },
      "source": [
        "train_data.describe().show()\n"
      ],
      "execution_count": 0,
      "outputs": [
        {
          "output_type": "display_data",
          "data": {
            "text/html": [
              "<style scoped>\n",
              "  .ansiout {\n",
              "    display: block;\n",
              "    unicode-bidi: embed;\n",
              "    white-space: pre-wrap;\n",
              "    word-wrap: break-word;\n",
              "    word-break: break-all;\n",
              "    font-family: \"Source Code Pro\", \"Menlo\", monospace;;\n",
              "    font-size: 13px;\n",
              "    color: #555;\n",
              "    margin-left: 4px;\n",
              "    line-height: 19px;\n",
              "  }\n",
              "</style>\n",
              "<div class=\"ansiout\">+-------+------------------+\n",
              "summary|              crew|\n",
              "+-------+------------------+\n",
              "  count|               111|\n",
              "   mean|  7.53144144144145|\n",
              " stddev|3.4291172590165493|\n",
              "    min|              0.59|\n",
              "    max|              21.0|\n",
              "+-------+------------------+\n",
              "\n",
              "</div>"
            ]
          },
          "metadata": {
            "tags": []
          }
        }
      ]
    },
    {
      "cell_type": "code",
      "metadata": {
        "id": "yhIoTVPVRmpe",
        "colab_type": "code",
        "colab": {},
        "outputId": "b35a97fa-0fe6-4d3a-d49a-96f1546134db"
      },
      "source": [
        "lr = LinearRegression(labelCol = 'crew')\n"
      ],
      "execution_count": 0,
      "outputs": [
        {
          "output_type": "display_data",
          "data": {
            "text/html": [
              "<style scoped>\n",
              "  .ansiout {\n",
              "    display: block;\n",
              "    unicode-bidi: embed;\n",
              "    white-space: pre-wrap;\n",
              "    word-wrap: break-word;\n",
              "    word-break: break-all;\n",
              "    font-family: \"Source Code Pro\", \"Menlo\", monospace;;\n",
              "    font-size: 13px;\n",
              "    color: #555;\n",
              "    margin-left: 4px;\n",
              "    line-height: 19px;\n",
              "  }\n",
              "</style>\n",
              "<div class=\"ansiout\"></div>"
            ]
          },
          "metadata": {
            "tags": []
          }
        }
      ]
    },
    {
      "cell_type": "code",
      "metadata": {
        "id": "jygXzAmMRmpj",
        "colab_type": "code",
        "colab": {},
        "outputId": "086b4a70-26bd-4df0-ab9d-cdae9e6cf5c4"
      },
      "source": [
        "lr_model = lr.fit(train_data)"
      ],
      "execution_count": 0,
      "outputs": [
        {
          "output_type": "display_data",
          "data": {
            "text/html": [
              "<style scoped>\n",
              "  .ansiout {\n",
              "    display: block;\n",
              "    unicode-bidi: embed;\n",
              "    white-space: pre-wrap;\n",
              "    word-wrap: break-word;\n",
              "    word-break: break-all;\n",
              "    font-family: \"Source Code Pro\", \"Menlo\", monospace;;\n",
              "    font-size: 13px;\n",
              "    color: #555;\n",
              "    margin-left: 4px;\n",
              "    line-height: 19px;\n",
              "  }\n",
              "</style>\n",
              "<div class=\"ansiout\"></div>"
            ]
          },
          "metadata": {
            "tags": []
          }
        }
      ]
    },
    {
      "cell_type": "code",
      "metadata": {
        "id": "sqIadng6Rmpp",
        "colab_type": "code",
        "colab": {},
        "outputId": "6ce6ef69-08ef-457f-8b6e-accba3965d77"
      },
      "source": [
        "test_results = lr_model.evaluate(test_data)\n"
      ],
      "execution_count": 0,
      "outputs": [
        {
          "output_type": "display_data",
          "data": {
            "text/html": [
              "<style scoped>\n",
              "  .ansiout {\n",
              "    display: block;\n",
              "    unicode-bidi: embed;\n",
              "    white-space: pre-wrap;\n",
              "    word-wrap: break-word;\n",
              "    word-break: break-all;\n",
              "    font-family: \"Source Code Pro\", \"Menlo\", monospace;;\n",
              "    font-size: 13px;\n",
              "    color: #555;\n",
              "    margin-left: 4px;\n",
              "    line-height: 19px;\n",
              "  }\n",
              "</style>\n",
              "<div class=\"ansiout\"></div>"
            ]
          },
          "metadata": {
            "tags": []
          }
        }
      ]
    },
    {
      "cell_type": "code",
      "metadata": {
        "id": "LikehoFjRmpx",
        "colab_type": "code",
        "colab": {},
        "outputId": "c84f78b4-44e0-4663-d0dc-e884f7dec90f"
      },
      "source": [
        "test_results.residuals.show()\n"
      ],
      "execution_count": 0,
      "outputs": [
        {
          "output_type": "display_data",
          "data": {
            "text/html": [
              "<style scoped>\n",
              "  .ansiout {\n",
              "    display: block;\n",
              "    unicode-bidi: embed;\n",
              "    white-space: pre-wrap;\n",
              "    word-wrap: break-word;\n",
              "    word-break: break-all;\n",
              "    font-family: \"Source Code Pro\", \"Menlo\", monospace;;\n",
              "    font-size: 13px;\n",
              "    color: #555;\n",
              "    margin-left: 4px;\n",
              "    line-height: 19px;\n",
              "  }\n",
              "</style>\n",
              "<div class=\"ansiout\">+--------------------+\n",
              "           residuals|\n",
              "+--------------------+\n",
              "  0.8469981542841003|\n",
              " -1.3536495624329756|\n",
              " -0.6204093974401799|\n",
              " -0.3258098509857472|\n",
              " 0.33190890194222256|\n",
              "-0.19399904565822013|\n",
              "  -0.633820838000851|\n",
              " -0.5289368343192447|\n",
              "  0.5111278686050174|\n",
              " -0.5735393072214698|\n",
              " -0.5117287036183402|\n",
              "-0.38571497786775666|\n",
              "-0.14962115846823743|\n",
              " -0.5053999042944479|\n",
              "  1.6860212812332431|\n",
              " 0.24240275462570438|\n",
              "  1.0351590269177553|\n",
              "-0.37618423636376086|\n",
              "  6.9901034832619935|\n",
              "  -1.039361944498559|\n",
              "+--------------------+\n",
              "only showing top 20 rows\n",
              "\n",
              "</div>"
            ]
          },
          "metadata": {
            "tags": []
          }
        }
      ]
    },
    {
      "cell_type": "code",
      "metadata": {
        "id": "jF7Yfm8gRmp5",
        "colab_type": "code",
        "colab": {},
        "outputId": "c7e7bd4c-2de1-4de6-c35f-ed8f51dae3f3"
      },
      "source": [
        "test_results.rootMeanSquaredError"
      ],
      "execution_count": 0,
      "outputs": [
        {
          "output_type": "display_data",
          "data": {
            "text/html": [
              "<style scoped>\n",
              "  .ansiout {\n",
              "    display: block;\n",
              "    unicode-bidi: embed;\n",
              "    white-space: pre-wrap;\n",
              "    word-wrap: break-word;\n",
              "    word-break: break-all;\n",
              "    font-family: \"Source Code Pro\", \"Menlo\", monospace;;\n",
              "    font-size: 13px;\n",
              "    color: #555;\n",
              "    margin-left: 4px;\n",
              "    line-height: 19px;\n",
              "  }\n",
              "</style>\n",
              "<div class=\"ansiout\">Out[34]: 1.2989223969228472</div>"
            ]
          },
          "metadata": {
            "tags": []
          }
        }
      ]
    },
    {
      "cell_type": "code",
      "metadata": {
        "id": "YERADlAuRmqA",
        "colab_type": "code",
        "colab": {},
        "outputId": "f95ade9f-4c96-4a76-ba4a-292cdccdf252"
      },
      "source": [
        "test_results.r2"
      ],
      "execution_count": 0,
      "outputs": [
        {
          "output_type": "display_data",
          "data": {
            "text/html": [
              "<style scoped>\n",
              "  .ansiout {\n",
              "    display: block;\n",
              "    unicode-bidi: embed;\n",
              "    white-space: pre-wrap;\n",
              "    word-wrap: break-word;\n",
              "    word-break: break-all;\n",
              "    font-family: \"Source Code Pro\", \"Menlo\", monospace;;\n",
              "    font-size: 13px;\n",
              "    color: #555;\n",
              "    margin-left: 4px;\n",
              "    line-height: 19px;\n",
              "  }\n",
              "</style>\n",
              "<div class=\"ansiout\">Out[35]: 0.8695433275265768</div>"
            ]
          },
          "metadata": {
            "tags": []
          }
        }
      ]
    },
    {
      "cell_type": "code",
      "metadata": {
        "id": "Po75WznqRmqG",
        "colab_type": "code",
        "colab": {},
        "outputId": "bee0e62f-683b-4c64-b301-f80774c1d0a9"
      },
      "source": [
        "final_data.describe().show()\n"
      ],
      "execution_count": 0,
      "outputs": [
        {
          "output_type": "display_data",
          "data": {
            "text/html": [
              "<style scoped>\n",
              "  .ansiout {\n",
              "    display: block;\n",
              "    unicode-bidi: embed;\n",
              "    white-space: pre-wrap;\n",
              "    word-wrap: break-word;\n",
              "    word-break: break-all;\n",
              "    font-family: \"Source Code Pro\", \"Menlo\", monospace;;\n",
              "    font-size: 13px;\n",
              "    color: #555;\n",
              "    margin-left: 4px;\n",
              "    line-height: 19px;\n",
              "  }\n",
              "</style>\n",
              "<div class=\"ansiout\">+-------+-----------------+\n",
              "summary|             crew|\n",
              "+-------+-----------------+\n",
              "  count|              158|\n",
              "   mean|7.794177215189873|\n",
              " stddev|3.503486564627034|\n",
              "    min|             0.59|\n",
              "    max|             21.0|\n",
              "+-------+-----------------+\n",
              "\n",
              "</div>"
            ]
          },
          "metadata": {
            "tags": []
          }
        }
      ]
    },
    {
      "cell_type": "code",
      "metadata": {
        "id": "3oyuKl7ERmqM",
        "colab_type": "code",
        "colab": {},
        "outputId": "bb3b0773-03d2-4146-e525-1d272cb2e905"
      },
      "source": [
        "unlabeled_data = test_data.select('features')\n"
      ],
      "execution_count": 0,
      "outputs": [
        {
          "output_type": "display_data",
          "data": {
            "text/html": [
              "<style scoped>\n",
              "  .ansiout {\n",
              "    display: block;\n",
              "    unicode-bidi: embed;\n",
              "    white-space: pre-wrap;\n",
              "    word-wrap: break-word;\n",
              "    word-break: break-all;\n",
              "    font-family: \"Source Code Pro\", \"Menlo\", monospace;;\n",
              "    font-size: 13px;\n",
              "    color: #555;\n",
              "    margin-left: 4px;\n",
              "    line-height: 19px;\n",
              "  }\n",
              "</style>\n",
              "<div class=\"ansiout\"></div>"
            ]
          },
          "metadata": {
            "tags": []
          }
        }
      ]
    },
    {
      "cell_type": "code",
      "metadata": {
        "id": "2BFGmTtrRmqT",
        "colab_type": "code",
        "colab": {},
        "outputId": "a2635ce2-b4bb-4dfa-90fb-58c2579134a8"
      },
      "source": [
        "preds = lr_model.transform(unlabeled_data)\n"
      ],
      "execution_count": 0,
      "outputs": [
        {
          "output_type": "display_data",
          "data": {
            "text/html": [
              "<style scoped>\n",
              "  .ansiout {\n",
              "    display: block;\n",
              "    unicode-bidi: embed;\n",
              "    white-space: pre-wrap;\n",
              "    word-wrap: break-word;\n",
              "    word-break: break-all;\n",
              "    font-family: \"Source Code Pro\", \"Menlo\", monospace;;\n",
              "    font-size: 13px;\n",
              "    color: #555;\n",
              "    margin-left: 4px;\n",
              "    line-height: 19px;\n",
              "  }\n",
              "</style>\n",
              "<div class=\"ansiout\"></div>"
            ]
          },
          "metadata": {
            "tags": []
          }
        }
      ]
    },
    {
      "cell_type": "code",
      "metadata": {
        "id": "GlBDv2SeRmqY",
        "colab_type": "code",
        "colab": {},
        "outputId": "4da24734-4bd8-4eff-f5b2-507b3f693a92"
      },
      "source": [
        "preds.show()\n"
      ],
      "execution_count": 0,
      "outputs": [
        {
          "output_type": "display_data",
          "data": {
            "text/html": [
              "<style scoped>\n",
              "  .ansiout {\n",
              "    display: block;\n",
              "    unicode-bidi: embed;\n",
              "    white-space: pre-wrap;\n",
              "    word-wrap: break-word;\n",
              "    word-break: break-all;\n",
              "    font-family: \"Source Code Pro\", \"Menlo\", monospace;;\n",
              "    font-size: 13px;\n",
              "    color: #555;\n",
              "    margin-left: 4px;\n",
              "    line-height: 19px;\n",
              "  }\n",
              "</style>\n",
              "<div class=\"ansiout\">+--------------------+------------------+\n",
              "            features|        prediction|\n",
              "+--------------------+------------------+\n",
              "[5.0,122.0,28.5,1...|   5.8530018457159|\n",
              "[5.0,160.0,36.34,...|14.953649562432975|\n",
              "[6.0,30.276999999...|  4.17040939744018|\n",
              "[6.0,112.0,38.0,9...|11.225809850985748|\n",
              "[6.0,113.0,37.82,...|11.668091098057777|\n",
              "[6.0,158.0,43.7,1...| 13.79399904565822|\n",
              "[7.0,116.0,31.0,9...|12.633820838000851|\n",
              "[8.0,110.0,29.74,...|12.128936834319244|\n",
              "[9.0,81.0,21.44,9...| 9.488872131394983|\n",
              "[9.0,90.09,25.01,...|  9.26353930722147|\n",
              "[9.0,105.0,27.2,8...| 11.19172870361834|\n",
              "[10.0,86.0,21.14,...| 9.585714977867756|\n",
              "[10.0,91.62700000...| 9.149621158468237|\n",
              "[10.0,110.0,29.74...|12.105399904294448|\n",
              "[10.0,151.4,26.2,...|10.843978718766756|\n",
              "[11.0,58.6,15.66,...| 7.357597245374295|\n",
              "[11.0,90.0,22.4,9...| 9.964840973082245|\n",
              "[11.0,90.09,25.01...| 8.856184236363761|\n",
              "[11.0,110.0,29.74...|12.109896516738008|\n",
              "[11.0,138.0,31.14...|12.889361944498559|\n",
              "+--------------------+------------------+\n",
              "only showing top 20 rows\n",
              "\n",
              "</div>"
            ]
          },
          "metadata": {
            "tags": []
          }
        }
      ]
    },
    {
      "cell_type": "code",
      "metadata": {
        "id": "BUwvgZorRmqf",
        "colab_type": "code",
        "colab": {},
        "outputId": "589ad207-5de5-49ec-80e2-212115621109"
      },
      "source": [
        "from pyspark.sql.functions import corr"
      ],
      "execution_count": 0,
      "outputs": [
        {
          "output_type": "display_data",
          "data": {
            "text/html": [
              "<style scoped>\n",
              "  .ansiout {\n",
              "    display: block;\n",
              "    unicode-bidi: embed;\n",
              "    white-space: pre-wrap;\n",
              "    word-wrap: break-word;\n",
              "    word-break: break-all;\n",
              "    font-family: \"Source Code Pro\", \"Menlo\", monospace;;\n",
              "    font-size: 13px;\n",
              "    color: #555;\n",
              "    margin-left: 4px;\n",
              "    line-height: 19px;\n",
              "  }\n",
              "</style>\n",
              "<div class=\"ansiout\"></div>"
            ]
          },
          "metadata": {
            "tags": []
          }
        }
      ]
    },
    {
      "cell_type": "code",
      "metadata": {
        "id": "rYCpILnPRmql",
        "colab_type": "code",
        "colab": {},
        "outputId": "01043da5-a663-42d3-d0d3-09c929af7bfc"
      },
      "source": [
        "data.describe().show()"
      ],
      "execution_count": 0,
      "outputs": [
        {
          "output_type": "display_data",
          "data": {
            "text/html": [
              "<style scoped>\n",
              "  .ansiout {\n",
              "    display: block;\n",
              "    unicode-bidi: embed;\n",
              "    white-space: pre-wrap;\n",
              "    word-wrap: break-word;\n",
              "    word-break: break-all;\n",
              "    font-family: \"Source Code Pro\", \"Menlo\", monospace;;\n",
              "    font-size: 13px;\n",
              "    color: #555;\n",
              "    margin-left: 4px;\n",
              "    line-height: 19px;\n",
              "  }\n",
              "</style>\n",
              "<div class=\"ansiout\">+-------+---------+-----------+------------------+------------------+-----------------+-----------------+------------------+-----------------+-----------------+\n",
              "summary|Ship_name|Cruise_line|               Age|           Tonnage|       passengers|           length|            cabins|passenger_density|             crew|\n",
              "+-------+---------+-----------+------------------+------------------+-----------------+-----------------+------------------+-----------------+-----------------+\n",
              "  count|      158|        158|               158|               158|              158|              158|               158|              158|              158|\n",
              "   mean| Infinity|       null|15.689873417721518| 71.28467088607599|18.45740506329114|8.130632911392404| 8.830000000000005|39.90094936708861|7.794177215189873|\n",
              " stddev|      NaN|       null| 7.615691058751413|37.229540025907866|9.677094775143416|1.793473548054825|4.4714172221480615| 8.63921711391542|3.503486564627034|\n",
              "    min|Adventure|    Azamara|                 4|             2.329|             0.66|             2.79|              0.33|             17.7|             0.59|\n",
              "    max|Zuiderdam|   Windstar|                48|             220.0|             54.0|            11.82|              27.0|            71.43|             21.0|\n",
              "+-------+---------+-----------+------------------+------------------+-----------------+-----------------+------------------+-----------------+-----------------+\n",
              "\n",
              "</div>"
            ]
          },
          "metadata": {
            "tags": []
          }
        }
      ]
    },
    {
      "cell_type": "code",
      "metadata": {
        "id": "Fn4V8ca0Rmqq",
        "colab_type": "code",
        "colab": {},
        "outputId": "93ef9320-7c13-4343-bf67-7ba8ef4f9eeb"
      },
      "source": [
        "data.select(corr('crew','cabins')).show()"
      ],
      "execution_count": 0,
      "outputs": [
        {
          "output_type": "display_data",
          "data": {
            "text/html": [
              "<style scoped>\n",
              "  .ansiout {\n",
              "    display: block;\n",
              "    unicode-bidi: embed;\n",
              "    white-space: pre-wrap;\n",
              "    word-wrap: break-word;\n",
              "    word-break: break-all;\n",
              "    font-family: \"Source Code Pro\", \"Menlo\", monospace;;\n",
              "    font-size: 13px;\n",
              "    color: #555;\n",
              "    margin-left: 4px;\n",
              "    line-height: 19px;\n",
              "  }\n",
              "</style>\n",
              "<div class=\"ansiout\">+------------------+\n",
              "corr(crew, cabins)|\n",
              "+------------------+\n",
              "0.9508226063578497|\n",
              "+------------------+\n",
              "\n",
              "</div>"
            ]
          },
          "metadata": {
            "tags": []
          }
        }
      ]
    },
    {
      "cell_type": "code",
      "metadata": {
        "id": "SiqM9uz5Rmqx",
        "colab_type": "code",
        "colab": {}
      },
      "source": [
        ""
      ],
      "execution_count": 0,
      "outputs": []
    }
  ]
}